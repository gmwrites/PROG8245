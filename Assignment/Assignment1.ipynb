{
 "cells": [
  {
   "cell_type": "markdown",
   "metadata": {},
   "source": [
    "## PROG8245 Assignment 1: (Total Marks 100)\n",
    "## Start on 16th of September- Due on 27th of September"
   ]
  },
  {
   "cell_type": "markdown",
   "metadata": {},
   "source": [
    "- TODO: write your name and ID below\n",
    "- Name: George Mathew\n",
    "- ID: 8966959\n",
    "- Kindly note that this assignment is to be solved by yourself, without the use of AI and chatbots.\n",
    "- If chatbot usage is detected, the penalty that is discussed in Week 1 slides will apply.\n",
    "- Each code block will have a Todo comment which explains the functionality, expected input, and expected output of the function.\n",
    "- There are 10 marks in this assignment for assuring that the code couldn't be broken (no errors can be thrown, please consider mathematical and logical errors)\n",
    "- There are 10 marks in this assignment for commenting and code readability.\n"
   ]
  },
  {
   "cell_type": "markdown",
   "metadata": {},
   "source": [
    "### Part 1: Python Basics"
   ]
  },
  {
   "cell_type": "markdown",
   "metadata": {},
   "source": [
    "#### Question 1:"
   ]
  },
  {
   "cell_type": "code",
   "execution_count": 1,
   "metadata": {},
   "outputs": [],
   "source": [
    "\n",
    "def total_price(price, tax):\n",
    "    # 3 marks\n",
    "    # TODO: write the functionality of the code where\n",
    "    #  you are taking as an input a price of an item and the\n",
    "    #  tax in decimal (13% tax will be given as 0.13),\n",
    "    #  you should return the taxedPrice of that item\n",
    "    #  which will be the total price after tax a customer must pay\n",
    "    # (The price of the item plus the applicable taxes)\n",
    "    \n",
    "    # Calculate the taxed price of the item\n",
    "    taxed_price = price + (price * tax)\n",
    "    \n",
    "    # Return the total price after tax\n",
    "    return taxed_price"
   ]
  },
  {
   "cell_type": "markdown",
   "metadata": {},
   "source": [
    "#### Question 2:"
   ]
  },
  {
   "cell_type": "code",
   "execution_count": 2,
   "metadata": {},
   "outputs": [],
   "source": [
    "def divisible_by(x, y):\n",
    "    # 3 marks\n",
    "    # TODO: write a function that returns True if x is divisible by y,\n",
    "    #  and returns False OTHERWISE (all other cases).\n",
    "    \n",
    "    if y == 0: # if y is 0, it is not divisible\n",
    "        return False\n",
    "    \n",
    "    return x % y == 0"
   ]
  },
  {
   "cell_type": "markdown",
   "metadata": {},
   "source": [
    "#### Question 3:"
   ]
  },
  {
   "cell_type": "code",
   "execution_count": 3,
   "metadata": {},
   "outputs": [],
   "source": [
    "def basic_calculator(x, y, operator):\n",
    "    # 5 marks\n",
    "    # TODO: write the functionality of the code where you are\n",
    "    #  coding a basic calculator that performs basic addition \"+\", subtraction \"-\",\n",
    "    #  multiplication \"*\", division \"/\", modulus \"%\" and integer division \"//\"\n",
    "    #  the function must apply the operator to x and y for example:\n",
    "    #  basicCalculator(10, 15, \"*\") should apply 10*15 and save it to the result variable\n",
    "    #  NOTE: YOU NEED TO HANDLE DIVISION ERRORS BY RETURNING A STRING WITH THE WORD \"error\"\n",
    "    #  NOTE: YOU NEED TO HANDLE AN INVALID OPERATOR BY RETURNING A STRING HAVING THE WORD \"invalid\"\n",
    "    \n",
    "    # Perform operations based on the operator\n",
    "    if operator == \"+\":\n",
    "        result = x + y\n",
    "    elif operator == \"-\":\n",
    "        result = x - y\n",
    "    elif operator == \"*\":\n",
    "        result = x * y\n",
    "    elif operator == \"/\":\n",
    "        # Handle division, check if y is zero\n",
    "        if y == 0:\n",
    "            return \"error\"\n",
    "        result = x / y\n",
    "    elif operator == \"%\":\n",
    "        # Handle modulus, check if y is zero\n",
    "        if y == 0:\n",
    "            return \"error\"\n",
    "        result = x % y\n",
    "    elif operator == \"//\":\n",
    "        # Handle integer division, check if y is zero\n",
    "        if y == 0:\n",
    "            return \"error\"\n",
    "        result = x // y\n",
    "    else:\n",
    "        # Return \"invalid\" for any operator not listed\n",
    "        return \"invalid\"\n",
    "    return result"
   ]
  },
  {
   "cell_type": "markdown",
   "metadata": {},
   "source": [
    "#### Question 4:"
   ]
  },
  {
   "cell_type": "code",
   "execution_count": 4,
   "metadata": {},
   "outputs": [],
   "source": [
    "def sum_of_even(numbers_list):\n",
    "    # 3 marks\n",
    "    # TODO: write the functionality of the code where you are\n",
    "    # taking as an input a list of numbers\n",
    "    # returning the sum of even numbers in the list\n",
    "    # NOTE: YOU NEED TO HANDLE ERRORS OF GIVING LIST OF STRINGS OR/AND\n",
    "    #  STRINGS WITH NUMBERS by returning \"invalid\"\n",
    "    # sum_of_even([1,2,3,4,5,6]) = 12\n",
    "    \n",
    "    # Initialize the sum of even numbers\n",
    "    even_sum = 0\n",
    "    \n",
    "    # Iterate through the list and validate each element\n",
    "    for num in numbers_list:\n",
    "        # Check if the element is not an integer\n",
    "        if not isinstance(num, int):\n",
    "            return \"invalid\"\n",
    "        \n",
    "        # Check if the number is even and add to the sum\n",
    "        if num % 2 == 0:\n",
    "            even_sum += num\n",
    "    return even_sum"
   ]
  },
  {
   "cell_type": "markdown",
   "metadata": {},
   "source": [
    "#### Question 5:"
   ]
  },
  {
   "cell_type": "code",
   "execution_count": 5,
   "metadata": {},
   "outputs": [],
   "source": [
    "def reverse_string(input_string):\n",
    "    # 3 marks\n",
    "    # TODO: write the functionality of the code where you are\n",
    "    # taking as an input a string\n",
    "    # returns the reverse of the string\n",
    "    # reverse_string(\"hello\") = \"olleh\"\n",
    "    # NOTE: Numbers should be handled as strings ex: 123 returns \"321\"\n",
    "    \n",
    "    # Convert the input to a string (handles both integers and strings)\n",
    "    input_string = str(input_string)\n",
    "    \n",
    "    # Reverse the string using slicing\n",
    "    reversed_string = input_string[::-1]\n",
    "    \n",
    "    return reversed_string"
   ]
  },
  {
   "cell_type": "markdown",
   "metadata": {},
   "source": [
    "#### Question 6:"
   ]
  },
  {
   "cell_type": "code",
   "execution_count": 6,
   "metadata": {},
   "outputs": [],
   "source": [
    "def diamond_string(length):\n",
    "    # 5 marks\n",
    "    # TODO: write the functionality of the code where you are\n",
    "    # taking as an input a POSITIVE ODD length\n",
    "    # saves in a string the diamond as follows:\n",
    "    # diamond_string(5)\n",
    "    #   *\n",
    "    #  ***\n",
    "    # *****\n",
    "    #  ***\n",
    "    #   *\n",
    "    # NOTE: The input must be positive odd, if not return empty string \"\" \n",
    "    \n",
    "    # Check if the length is a positive odd number\n",
    "    if length <= 0 or length % 2 == 0:\n",
    "        return \"\"\n",
    "    \n",
    "    # Initialize the diamond string\n",
    "    diamond = []\n",
    "    \n",
    "    # Top half of the diamond (including the middle)\n",
    "    for i in range(1, length + 1, 2):\n",
    "        # Calculate the number of spaces for centering\n",
    "        spaces = (length - i) // 2\n",
    "        # Add the line with spaces and asterisks\n",
    "        diamond.append(\" \" * spaces + \"*\" * i)\n",
    "    \n",
    "    # Bottom half of the diamond (excluding the middle)\n",
    "    for i in range(length - 2, 0, -2):\n",
    "        spaces = (length - i) // 2\n",
    "        diamond.append(\" \" * spaces + \"*\" * i)\n",
    "        \n",
    "    # Join the list into a single string with line breaks\n",
    "    return \"\\n\".join(diamond)"
   ]
  },
  {
   "cell_type": "markdown",
   "metadata": {},
   "source": [
    "#### Question 7:"
   ]
  },
  {
   "cell_type": "code",
   "execution_count": 7,
   "metadata": {},
   "outputs": [],
   "source": [
    "def longest_consecutive_subarray(number_array):\n",
    "    # 8 marks\n",
    "    # TODO: write the functionality of the code where you are\n",
    "    # taking as an input an array of REAL NUMBERS\n",
    "    # return the length of the longest subarray that could be\n",
    "    # built using the input\n",
    "    # longest_consecutive_subarray([100, 4, 200, 1, 3, 2]) = 4\n",
    "    # Function should return 4 which represents in this case\n",
    "    # the longest_consecutive_subarray that could be built [1,2,3,4]\n",
    "    # You can't use Built in Sorting!\n",
    "    # Note: - If any error exists in the input, \"error\" should be returned\n",
    "    #       - The difference between any 2 consecuetive numbers is 1.\n",
    "    \n",
    "    # Validate input: check if all elements are numbers\n",
    "    try:\n",
    "        number_set = set(number_array)  # Convert array to a set for O(1) lookups\n",
    "    except TypeError:\n",
    "        return \"error\"\n",
    "    \n",
    "    if not all(isinstance(num, (int, float)) for num in number_array):\n",
    "        return \"error\"\n",
    "    \n",
    "    # Initialize the variable to track the longest sequence length\n",
    "    longest_sequence = 0\n",
    "    \n",
    "    # Loop through each number in the set\n",
    "    for num in number_set:\n",
    "        # Only consider the start of a sequence (i.e., num - 1 is not in the set)\n",
    "        if num - 1 not in number_set:\n",
    "            current_num = num\n",
    "            current_sequence = 1\n",
    "            \n",
    "            # Check the next consecutive numbers\n",
    "            while current_num + 1 in number_set:\n",
    "                current_num += 1\n",
    "                current_sequence += 1\n",
    "            \n",
    "            # Update the longest sequence found\n",
    "            longest_sequence = max(longest_sequence, current_sequence)\n",
    "    \n",
    "    return longest_sequence"
   ]
  },
  {
   "cell_type": "markdown",
   "metadata": {},
   "source": [
    "#### Question 8 (Challenging):"
   ]
  },
  {
   "cell_type": "code",
   "execution_count": 8,
   "metadata": {},
   "outputs": [],
   "source": [
    "def can_be_segmented(input_string, word_dict):\n",
    "    # 15 marks\n",
    "    # TODO: Write the functionality of the code where you\n",
    "    # are given as an input a string and a word_dict\n",
    "    # Your target is to return True, if input_string can be segmented\n",
    "    # (broken-down) into a sequence of one or more dictionary words\n",
    "    # otherwise return False\n",
    "    # Sample Input: can_be_segmented(\"applepenapple\", {'apple','pen'}) ==> True\n",
    "    # Sample Input: can_be_segmented(\"catsandog\", {'cats','dog','sand','and','cat'}) ==> False\n",
    "    # Hint: You can start by checking which prefix exist in the dictionary, and call the same function recursively\n",
    "    # on the remaining string.\n",
    "    \n",
    "    # Base case: if the input string is empty, return True\n",
    "    if not input_string:\n",
    "        return True\n",
    "    \n",
    "    # Loop through the input string and check each prefix\n",
    "    for i in range(1, len(input_string) + 1):\n",
    "        # Extract the prefix from the start to position i\n",
    "        prefix = input_string[:i]\n",
    "        \n",
    "        # If the prefix exists in the word dictionary\n",
    "        if prefix in word_dict:\n",
    "            # Recursively call the function with the remaining part of the string\n",
    "            remaining_string = input_string[i:]\n",
    "            if can_be_segmented(remaining_string, word_dict):\n",
    "                return True  # If the remaining part can be segmented, return True\n",
    "    \n",
    "    # If no valid segmentation is found, return False\n",
    "    return False"
   ]
  },
  {
   "cell_type": "markdown",
   "metadata": {},
   "source": [
    "### Part 2: Numpy Basics: \n",
    "- In this Part of the assignment, you are <b>ONLY ALLOWED</b> to use Numpy and its functions. \n",
    "- You are not expected to use Loops."
   ]
  },
  {
   "cell_type": "code",
   "execution_count": 9,
   "metadata": {},
   "outputs": [],
   "source": [
    "import numpy as np"
   ]
  },
  {
   "cell_type": "markdown",
   "metadata": {},
   "source": [
    "#### Question 9:"
   ]
  },
  {
   "cell_type": "code",
   "execution_count": 10,
   "metadata": {},
   "outputs": [],
   "source": [
    "def no_zeros(array_input):\n",
    "    # 3 marks\n",
    "    ## TODO: This function should return True if \n",
    "    ## numpy array arrayInput does not contain any zero\n",
    "    ## and will return False otherwise.\n",
    "    ## Implement this function using ONLY numpy methods\n",
    "    ## Sample input: np.array([1,2,3,4,5,6,0]) Sample Output: False\n",
    "    ## Sample input: np.array([1,2,3,4,5,6]) Sample Output: True\n",
    "    \n",
    "    # Check if all elements in the array are non-zero using numpy's all() function\n",
    "    return np.all(array_input)"
   ]
  },
  {
   "cell_type": "markdown",
   "metadata": {},
   "source": [
    "#### Question 10:"
   ]
  },
  {
   "cell_type": "code",
   "execution_count": 11,
   "metadata": {},
   "outputs": [],
   "source": [
    "def two_dimensions(n):\n",
    "    # 7 marks\n",
    "    ## TODO: This function should create a 2d Array of shape n*n for any positive number\n",
    "    ## Where the borders of the array are ones\n",
    "    ## all other elements are zero\n",
    "    ## Implement this function using ONLY numpy methods\n",
    "    ## Sample input 3\n",
    "    ## sample output [[1,1,1],[1,0,1],[1,1,1]]\n",
    "    \n",
    "    # Create an n x n array filled with zeros\n",
    "    array_2d = np.zeros((n, n), dtype=int)\n",
    "    \n",
    "    # Set the borders to 1\n",
    "    array_2d[0, :] = 1  # First row\n",
    "    array_2d[-1, :] = 1  # Last row\n",
    "    array_2d[:, 0] = 1  # First column\n",
    "    array_2d[:, -1] = 1  # Last column\n",
    "    \n",
    "    return array_2d"
   ]
  },
  {
   "cell_type": "markdown",
   "metadata": {},
   "source": [
    "#### Question 11:"
   ]
  },
  {
   "cell_type": "code",
   "execution_count": 12,
   "metadata": {},
   "outputs": [],
   "source": [
    "def random_generation(n,min,max):\n",
    "    # 5 marks\n",
    "    # TODO: Write a function that takes as an input\n",
    "    # Dimension of 2d Array n, min and max\n",
    "    # Generate an n*n array with random numbers between\n",
    "    # min and max inclusive\n",
    "    # Such that no element is duplicated\n",
    "    # return numpy array\n",
    "    # Implement this function using ONLY numpy methods\n",
    "    # Sample Input: random_generation(3,0,12) --> [[4,2,6],[1,5,11],[10, 3,9]]\n",
    "    \n",
    "    # Calculate the total number of elements needed\n",
    "    total_elements = n * n\n",
    "\n",
    "    # Ensure there are enough unique numbers between min and max\n",
    "    if (max - min + 1) < total_elements:\n",
    "        raise ValueError(\"Range is too small to generate unique elements.\")\n",
    "    \n",
    "    # Generate unique random numbers from the range [min, max]\n",
    "    random_numbers = np.random.choice(np.arange(min, max + 1), size=total_elements, replace=False)\n",
    "    \n",
    "    # Reshape the random numbers into an n x n array\n",
    "    two_dimensions_array = random_numbers.reshape((n, n))\n",
    "\n",
    "    return two_dimensions_array"
   ]
  },
  {
   "cell_type": "markdown",
   "metadata": {},
   "source": [
    "#### Question 12:"
   ]
  },
  {
   "cell_type": "code",
   "execution_count": 13,
   "metadata": {},
   "outputs": [],
   "source": [
    "def matrix_border_sum(matrix):\n",
    "    # 8 marks\n",
    "    # TODO: Write a function that takes as an input a matrix\n",
    "    # and return the sum of all elements in the borders\n",
    "    # Implement this function using ONLY numpy methods\n",
    "    # Sample Input: np.array([[1,2,3],\n",
    "    #                         [4,5,6],\n",
    "    #                         [7,8,9]])\n",
    "    # Output: matrix_border_sum(matrix) =  1+2+3+4+6+7+8+9 = 40\n",
    "\n",
    "    # Get the first and last rows\n",
    "    first_row = matrix[0, :]\n",
    "    last_row = matrix[-1, :]\n",
    "    \n",
    "    # Get the first and last columns, excluding the first and last rows (corners already counted)\n",
    "    first_column = matrix[1:-1, 0]\n",
    "    last_column = matrix[1:-1, -1]\n",
    "    \n",
    "    # Sum all the extracted border elements\n",
    "    border_sum = np.sum(first_row) + np.sum(last_row) + np.sum(first_column) + np.sum(last_column)\n",
    "    \n",
    "    return border_sum"
   ]
  },
  {
   "cell_type": "markdown",
   "metadata": {},
   "source": [
    "### Part 3: Pandas"
   ]
  },
  {
   "cell_type": "code",
   "execution_count": 14,
   "metadata": {},
   "outputs": [],
   "source": [
    "import pandas as pd"
   ]
  },
  {
   "cell_type": "markdown",
   "metadata": {},
   "source": [
    "#### Question 13 (12 marks): \n",
    "- Using RegularSeasonCompactResults.csv and Teams.csv apply the following functionalities"
   ]
  },
  {
   "cell_type": "code",
   "execution_count": 15,
   "metadata": {},
   "outputs": [
    {
     "name": "stdout",
     "output_type": "stream",
     "text": [
      "Number of draw matches: 0\n"
     ]
    }
   ],
   "source": [
    "# Using RegularSeasonCompactResults.csv\n",
    "# 1- Create a filter to show if there are any draw matches\n",
    "# 2- Apply the filter to the dataframe\n",
    "# 3- SHOW/PRINT the dataframe length or count (4 marks)\n",
    "## TODO: Your code should be here\n",
    "\n",
    "# Step 1: Load the RegularSeasonCompactResults CSV\n",
    "regular_season_df = pd.read_csv('C:/Users/ASUS/Documents/AAIML/Machine Learning Programming/PROG8245/Data/RegularSeasonCompactResults.csv')\n",
    "\n",
    "# Step 2: Create a filter for draw matches (where both teams scored the same points)\n",
    "draw_filter = regular_season_df['Wscore'] == regular_season_df['Lscore']\n",
    "\n",
    "# Step 3: Apply the filter to the dataframe\n",
    "draw_matches_df = regular_season_df[draw_filter]\n",
    "\n",
    "# Step 4: Show/Print the length of the filtered dataframe (count of draw matches)\n",
    "draw_count = len(draw_matches_df)\n",
    "\n",
    "# Output the count\n",
    "print(f'Number of draw matches: {draw_count}')"
   ]
  },
  {
   "cell_type": "code",
   "execution_count": 16,
   "metadata": {},
   "outputs": [
    {
     "name": "stdout",
     "output_type": "stream",
     "text": [
      "Winning Team ID: 1341\n",
      "        Season  Daynum  Wteam  Wscore  Lteam  Lscore Wloc  Numot\n",
      "124594    2013      18   1341      42   1298      40    N      0\n",
      "124803    2013      23   1341      81   1222      80    H      0\n",
      "126440    2013      68   1341      60   1212      44    H      0\n",
      "126523    2013      70   1341      73   1238      59    H      0\n",
      "127089    2013      82   1341      74   1106      72    H      0\n",
      "127165    2013      84   1341      65   1105      46    H      0\n",
      "127723    2013      96   1341      63   1212      53    A      0\n",
      "128053    2013     103   1341      80   1290      77    H      0\n",
      "128357    2013     110   1341      65   1106      56    A      0\n",
      "128439    2013     112   1341      61   1105      57    A      1\n",
      "129117    2013     129   1341      67   1108      59    N      0\n",
      "129164    2013     130   1341      88   1238      75    N      0\n"
     ]
    }
   ],
   "source": [
    "# Using RegularSeasonCompactResults.csv\n",
    "# 1- Create a filter showing the entries where the winningteamID= 1400- (last two digits of your id)\n",
    "# 2- Create another filter for the season of 2013\n",
    "# 3- Apply the filter to the dataframe\n",
    "# 4- Show the resulted dataframe (4 marks)\n",
    "# (Example: IF your id is 8000021, the winning team id = 1400-21= 1379)\n",
    "# TODO: Your code should be here\n",
    "\n",
    "# Step 1: Calculate winning team ID using last two digits of ID (for example, my ID is 8966959) and Create filter for the winning team ID\n",
    "last_two_digits_of_id = 59\n",
    "winning_team_id = 1400 - last_two_digits_of_id\n",
    "print(f\"Winning Team ID: {winning_team_id}\")\n",
    "team_filter = regular_season_df['Wteam'] == winning_team_id\n",
    "\n",
    "# Step 2: Create filter for the season of 2013\n",
    "season_filter = regular_season_df['Season'] == 2013\n",
    "\n",
    "# Step 3: Apply the filters to the dataframe\n",
    "filtered_df = regular_season_df[team_filter & season_filter]\n",
    "\n",
    "# Step 4: Show the resulted dataframe\n",
    "print(filtered_df)"
   ]
  },
  {
   "cell_type": "code",
   "execution_count": 17,
   "metadata": {},
   "outputs": [
    {
     "name": "stdout",
     "output_type": "stream",
     "text": [
      "   Season  Daynum  Wteam  Wscore  Lteam  Lscore Wloc  Numot  Team_Id  \\\n",
      "0    1985      20   1228      81   1328      64    N      0     1228   \n",
      "1    1985      25   1106      77   1354      70    H      0     1106   \n",
      "2    1985      25   1112      63   1223      56    H      0     1112   \n",
      "\n",
      "    Team_Name  \n",
      "0    Illinois  \n",
      "1  Alabama St  \n",
      "2     Arizona  \n"
     ]
    }
   ],
   "source": [
    "# Using RegularSeasonCompactResults.csv & Teams.csv\n",
    "# 1- Load and merge both dataframes\n",
    "# 2- Where the merge is on WinningTeamId (RegularSeasonCompactResults) and TeamId (Teams.csv)\n",
    "# 3- Name the dataframe: DFCombined\n",
    "# 4- Show the top 3 rows (4 marks)\n",
    "# TODO: Your code should be here\n",
    "\n",
    "# Step 1: Load the RegularSeasonCompactResults and Teams CSV files\n",
    "teams_df = pd.read_csv('C:/Users/ASUS/Documents/AAIML/Machine Learning Programming/PROG8245/Data/Teams.csv')\n",
    "\n",
    "# Step 2: Merge both dataframes on the columns WinningTeamID from regular_season_df and TeamID from teams_df\n",
    "# Step 3: Name the dataframe: DFCombined\n",
    "DFCombined = pd.merge(regular_season_df, teams_df, left_on='Wteam', right_on='Team_Id')\n",
    "\n",
    "# Step 4: Show the top 3 rows of the merged dataframe\n",
    "print(DFCombined.head(3))"
   ]
  }
 ],
 "metadata": {
  "kernelspec": {
   "display_name": "CSCN8010_classic_ml",
   "language": "python",
   "name": "cscn8010_classic_ml"
  },
  "language_info": {
   "codemirror_mode": {
    "name": "ipython",
    "version": 3
   },
   "file_extension": ".py",
   "mimetype": "text/x-python",
   "name": "python",
   "nbconvert_exporter": "python",
   "pygments_lexer": "ipython3",
   "version": "3.11.9"
  }
 },
 "nbformat": 4,
 "nbformat_minor": 2
}
